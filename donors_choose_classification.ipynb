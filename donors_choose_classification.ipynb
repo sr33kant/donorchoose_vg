{
 "cells": [
  {
   "cell_type": "code",
   "execution_count": 24,
   "metadata": {
    "collapsed": false
   },
   "outputs": [],
   "source": [
    "import pandas as pd \n",
    "import re\n",
    "import pylab as pl\n",
    "import gc\n",
    "import xgboost as xgb\n",
    "import lightgbm as lgb\n",
    "import seaborn as sns\n",
    "from sklearn.preprocessing import LabelEncoder, OneHotEncoder\n",
    "from sklearn.feature_extraction.text import CountVectorizer, TfidfVectorizer\n",
    "from sklearn.metrics import roc_auc_score as auc\n",
    "from sklearn.model_selection import StratifiedKFold\n",
    "from collections import defaultdict, Counter\n",
    "from nltk.tag import pos_tag\n",
    "from nltk.corpus import stopwords\n",
    "from nltk.stem import PorterStemmer\n",
    "from scipy.stats import pearsonr\n",
    "from scipy.sparse import hstack\n",
    "from multiprocessing import Pool\n"
   ]
  },
  {
   "cell_type": "code",
   "execution_count": 52,
   "metadata": {
    "collapsed": false
   },
   "outputs": [],
   "source": [
    "train_raw_data=pd.read_csv(\"C:\\\\Users\\\\sreek\\Documents\\\\vg_donors_choose\\\\train\\\\train.csv\")\n",
    "test_raw_data=pd.read_csv(\"C:\\\\Users\\\\sreek\\Documents\\\\vg_donors_choose\\\\test\\\\test.csv\",low_memory=False)\n",
    "res_raw_data=pd.read_csv(\"C:\\\\Users\\\\sreek\\Documents\\\\vg_donors_choose\\\\resources\\\\resources.csv\")\n"
   ]
  },
  {
   "cell_type": "code",
   "execution_count": null,
   "metadata": {
    "collapsed": true
   },
   "outputs": [],
   "source": [
    "# Moved the contents of 'project_essay_2' to 'project_essay_4' when essay 4 is nan, \n",
    "# then we simply combine 1&2 and 3&4 to make a uniform dataset"
   ]
  },
  {
   "cell_type": "code",
   "execution_count": 53,
   "metadata": {
    "collapsed": true
   },
   "outputs": [],
   "source": [
    "train_raw_data['tr'] = 1\n",
    "test_raw_data['tr'] = 0\n",
    "train_raw_data['ts'] = 0\n",
    "test_raw_data['ts'] = 1\n",
    "\n",
    "combined_data = pd.concat((train_raw_data,test_raw_data))\n",
    "\n",
    "combined_data.loc[combined_data.project_essay_4.isnull(), ['project_essay_4','project_essay_2']] = \\\n",
    "    combined_data.loc[combined_data.project_essay_4.isnull(), ['project_essay_2','project_essay_4']].values\n",
    "\n",
    "combined_data[['project_essay_2','project_essay_3']] = combined_data[['project_essay_2','project_essay_3']].fillna('')\n",
    "\n",
    "combined_data['project_essay_1'] = combined_data.apply(lambda row: ' '.join([str(row['project_essay_1']), \n",
    "                                                     str(row['project_essay_2'])]), axis=1)\n",
    "combined_data['project_essay_2'] = combined_data.apply(lambda row: ' '.join([str(row['project_essay_3']),\n",
    "                                                     str(row['project_essay_4'])]), axis=1)\n",
    "\n",
    "combined_data = combined_data.drop(['project_essay_3', 'project_essay_4'], axis=1)"
   ]
  },
  {
   "cell_type": "code",
   "execution_count": 57,
   "metadata": {
    "collapsed": false
   },
   "outputs": [
    {
     "data": {
      "text/plain": [
       "3847"
      ]
     },
     "execution_count": 57,
     "metadata": {},
     "output_type": "execute_result"
    }
   ],
   "source": [
    "res_raw_data['Total'] = res_raw_data['quantity']*res_raw_data['price']\n",
    "res_data = res_raw_data.groupby('id').agg({'description':'count',\n",
    "                            'quantity':'sum',\n",
    "                            'price':'sum',\n",
    "                            'Total':'sum'}).rename(columns={'description':'items'})\n",
    "res_data['avgPrice'] = res_data.Total / res_data.quantity\n",
    "numFeatures = ['items', 'quantity', 'price', 'Total', 'avgPrice']\n",
    "\n",
    "for func in ['min', 'max', 'mean']:\n",
    "    res_data = res_data.join(res_raw_data.groupby('id').agg({'quantity':func,\n",
    "                                          'price':func,\n",
    "                                          'Total':func}).rename(\n",
    "                                columns={'quantity':func+'Quantity',\n",
    "                                         'price':func+'Price',\n",
    "                                         'Total':func+'Total'}).fillna(0))\n",
    "    numFeatures += [func+'Quantity', func+'Price', func+'Total']\n",
    "\n",
    "res_data = res_data.join(res_raw_data.groupby('id').agg(\n",
    "    {'description':lambda x:' '.join(x.values.astype(str))}).rename(\n",
    "    columns={'description':'resource_description'}))\n",
    "\n",
    "combined_data = combined_data.join(res_data, on='id')\n",
    "\n",
    "\n",
    "combined_data['price_category'] = pl.digitize(combined_data.Total, [0, 50, 100, 250, 500, 1000, pl.inf])\n",
    "numFeatures.append('price_category')\n",
    "\n",
    "for c in ['Quantity', 'Price', 'Total']:\n",
    "    combined_data['max%s_min%s'%(c,c)] = combined_data['max%s'%c] - combined_data['min%s'%c]\n",
    "    numFeatures.append('max%s_min%s'%(c,c))\n",
    "\n",
    "del res_data, train_raw_data, res_raw_data, test_raw_data\n",
    "gc.collect()"
   ]
  },
  {
   "cell_type": "code",
   "execution_count": 62,
   "metadata": {
    "collapsed": false
   },
   "outputs": [],
   "source": [
    "#######Statistical featues#############\n",
    "combined_data['teacher_id'] = LabelEncoder().fit_transform(combined_data['teacher_id'])\n",
    "combined_data['teacher_gender_unknown'] = combined_data.teacher_prefix.apply(lambda x:int(x not in ['Ms.', 'Mrs.', 'Mr.']))\n",
    "numFeatures += ['teacher_number_of_previously_posted_projects','teacher_id','teacher_gender_unknown']\n",
    "\n",
    "statFeatures = []\n",
    "for col in ['school_state', 'teacher_id', 'teacher_prefix', 'teacher_gender_unknown', 'project_grade_category', 'project_subject_categories', 'project_subject_subcategories', 'teacher_number_of_previously_posted_projects']:\n",
    "    Stat = combined_data[['id', col]].groupby(col).agg('count').rename(columns={'id':col+'_stat'})\n",
    "    Stat /= Stat.sum()\n",
    "    combined_data = combined_data.join(Stat, on=col)\n",
    "    statFeatures.append(col+'_stat')"
   ]
  },
  {
   "cell_type": "code",
   "execution_count": null,
   "metadata": {
    "collapsed": true
   },
   "outputs": [],
   "source": [
    "dateCol = 'project_submitted_datetime'\n",
    "def getTimeFeatures(combined_data):\n",
    "    combined_data['year'] = combined_data[dateCol].apply(lambda x: x.year)\n",
    "    combined_data['month'] = combined_data[dateCol].apply(lambda x: x.month)\n",
    "    combined_data['day'] = combined_data[dateCol].apply(lambda x: x.day)\n",
    "    combined_data['dow'] = combined_data[dateCol].apply(lambda x: x.dayofweek)\n",
    "    combined_data['hour'] = combined_data[dateCol].apply(lambda x: x.hour)\n",
    "    combined_data['days'] = (combined_data[dateCol]-combined_data[dateCol].min()).apply(lambda x: x.days)\n",
    "    return combined_data\n",
    "\n",
    "combined_data[dateCol] = pd.to_datetime(combined_data[dateCol])\n",
    "combined_data = getTimeFeatures(combined_data)\n",
    "\n",
    "P_tar = combined_data[combined_data.tr==1][target].mean()\n",
    "timeFeatures = ['year', 'month', 'day', 'dow', 'hour', 'days']\n",
    "for col in timeFeatures:\n",
    "    Stat = combined_data[['id', col]].groupby(col).agg('count').rename(columns={'id':col+'_stat'})\n",
    "    Stat /= Stat.sum()\n",
    "    combined_data = combined_data.join(Stat, on=col)\n",
    "    statFeatures.append(col+'_stat')\n",
    "\n",
    "numFeatures += timeFeatures\n",
    "numFeatures += statFeatures"
   ]
  },
  {
   "cell_type": "code",
   "execution_count": 58,
   "metadata": {
    "collapsed": true
   },
   "outputs": [],
   "source": [
    "\n",
    "def getCatFeatures(data, Col):\n",
    "    vectorizer = CountVectorizer(binary=True,\n",
    "                                 ngram_range=(1,1),\n",
    "                                 tokenizer=lambda x:[a.strip() for a in x.split(',')])\n",
    "    return vectorizer.fit_transform(data[Col].fillna(''))\n",
    "\n",
    "teach_pref = getCatFeatures(combined_data, 'teacher_prefix')\n",
    "teach_ss = getCatFeatures(combined_data, 'school_state')\n",
    "teach_pgc = getCatFeatures(combined_data, 'project_grade_category')\n",
    "teach_psc = getCatFeatures(combined_data, 'project_subject_categories')\n",
    "teach_pssc = getCatFeatures(combined_data, 'project_subject_subcategories')\n",
    "\n",
    "cat_data = hstack((teach_pref, teach_ss, teach_pgc, teach_psc, teach_pssc))"
   ]
  },
  {
   "cell_type": "code",
   "execution_count": 59,
   "metadata": {
    "collapsed": false
   },
   "outputs": [],
   "source": [
    "\n",
    "porter = PorterStemmer()\n",
    "analyzer = CountVectorizer().build_analyzer()\n",
    "\n",
    "def getTxtFeatures(data, Col, max_features=10000, ngrams=(1,2)):\n",
    "    \n",
    "    vectorizer = CountVectorizer(stop_words='english',\n",
    "                                 preprocessor=stemmed_words,\n",
    "                                 max_features=max_features,\n",
    "                                 binary=True,\n",
    "                                 ngram_range=ngrams)\n",
    "    X = vectorizer.fit_transform(data[Col])\n",
    "    return X\n",
    "\n",
    "def stemmed_words(sentence):\n",
    "    return ' '.join([porter.stem(x.lower()) for x in re.split('\\W', sentence) if len(x) >= 1])\n",
    "\n",
    "# def stemmed_words(doc):\n",
    "    \n",
    "#     return (porter.stem(w.lower()) for w in analyzer(doc))\n",
    "\n",
    "params={\"essy1_param\":3000,\n",
    "        \"essy2_param\":8000, \n",
    "        \"rsummary_param\":2000, \n",
    "        \"rdescript_param\":3000, \n",
    "        \"ptitle_param\":1000\n",
    "        }\n",
    "essy1_txt = getTxtFeatures(combined_data, 'project_essay_1', max_features=params.get(\"essy1_param\"))\n",
    "essy2_txt = getTxtFeatures(combined_data, 'project_essay_2', max_features=params.get(\"essy2_param\"))\n",
    "rsummary_txt= getTxtFeatures(combined_data, 'project_resource_summary', max_features=params.get(\"rsummary_param\"))\n",
    "rdescript_txt= getTxtFeatures(combined_data, 'resource_description', max_features=params.get(\"rdescript_param\"), ngrams=(1,3))\n",
    "ptitle_txt= getTxtFeatures(combined_data, 'project_title', max_features=params.get(\"ptitle_param\"))\n",
    "\n",
    "process_txt=hstack((essy1_txt,essy2_txt,rsummary_txt,rdescript_txt,ptitle_txt))\n",
    "del essy1_txt,essy2_txt,rsummary_txt,rdescript_txt,ptitle_txt"
   ]
  },
  {
   "cell_type": "code",
   "execution_count": null,
   "metadata": {
    "collapsed": true
   },
   "outputs": [],
   "source": []
  }
 ],
 "metadata": {
  "kernelspec": {
   "display_name": "Python 3",
   "language": "python",
   "name": "python3"
  },
  "language_info": {
   "codemirror_mode": {
    "name": "ipython",
    "version": 3
   },
   "file_extension": ".py",
   "mimetype": "text/x-python",
   "name": "python",
   "nbconvert_exporter": "python",
   "pygments_lexer": "ipython3",
   "version": "3.5.1"
  }
 },
 "nbformat": 4,
 "nbformat_minor": 2
}
